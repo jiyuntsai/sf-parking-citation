{
 "cells": [
  {
   "cell_type": "markdown",
   "id": "ab836831-9b7c-4e6e-a2e0-91941a27aa9f",
   "metadata": {},
   "source": [
    "## Street Cleaning Schedule\n",
    "[Street Sweeping Schedule](https://data.sfgov.org/City-Infrastructure/Street-Sweeping-Schedule/yhqp-riqs) downloaded at DataSF"
   ]
  },
  {
   "cell_type": "code",
   "execution_count": null,
   "id": "07277b95-2dde-4a41-baaa-6c84a02f5e8f",
   "metadata": {},
   "outputs": [],
   "source": []
  }
 ],
 "metadata": {
  "kernelspec": {
   "display_name": "Python 3 (ipykernel)",
   "language": "python",
   "name": "python3"
  },
  "language_info": {
   "codemirror_mode": {
    "name": "ipython",
    "version": 3
   },
   "file_extension": ".py",
   "mimetype": "text/x-python",
   "name": "python",
   "nbconvert_exporter": "python",
   "pygments_lexer": "ipython3",
   "version": "3.9.12"
  }
 },
 "nbformat": 4,
 "nbformat_minor": 5
}
