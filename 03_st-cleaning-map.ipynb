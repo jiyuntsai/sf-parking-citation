{
 "cells": [
  {
   "cell_type": "markdown",
   "id": "77af0e8e-e846-4bbc-8854-2eaf427df2cf",
   "metadata": {},
   "source": [
    "## Mapping the Data\n",
    "In `02_st-cleaing-5yr.ipynb` we found that there are some hotspots for street cleaning violations. Here let's map them out.  \n",
    "Alternatively, I also marked hotposts on [Google MyMap](https://www.google.com/maps/d/edit?mid=1hqpDiDN_2dWwhyBaKwjsPb2qxoinSww&usp=sharing) for better view with analysis neighborhood."
   ]
  },
  {
   "cell_type": "markdown",
   "id": "26fb4d2c-34cc-4c3f-9d49-24fdb1a420cf",
   "metadata": {},
   "source": [
    "### Import Data"
   ]
  },
  {
   "cell_type": "code",
   "execution_count": 1,
   "id": "5fae2537-1160-4732-a167-6ef5e8f7bd8a",
   "metadata": {},
   "outputs": [],
   "source": [
    "import pandas as pd\n",
    "import requests"
   ]
  },
  {
   "cell_type": "code",
   "execution_count": 2,
   "id": "99920160-3603-4239-aebf-94a69b455515",
   "metadata": {},
   "outputs": [],
   "source": [
    "# Geocoding addresses from Pandas\n",
    "# Import citation_st_cleaning_5yr.csv\n",
    "st_cleaning_map = pd.read_csv('citation_st_cleaning_5yr.csv',\n",
    "                              dtype={'Citation Number': object} ,\n",
    "                              parse_dates=['Citation Issued DateTime'])"
   ]
  },
  {
   "cell_type": "code",
   "execution_count": 3,
   "id": "9e4b9875-ed8b-4c5e-9ccf-3e6103a2f1fe",
   "metadata": {},
   "outputs": [
    {
     "name": "stdout",
     "output_type": "stream",
     "text": [
      "<class 'pandas.core.frame.DataFrame'>\n",
      "RangeIndex: 2376891 entries, 0 to 2376890\n",
      "Data columns (total 15 columns):\n",
      " #   Column                        Dtype         \n",
      "---  ------                        -----         \n",
      " 0   Citation Number               object        \n",
      " 1   Citation Issued DateTime      datetime64[ns]\n",
      " 2   Violation                     object        \n",
      " 3   Violation Description         object        \n",
      " 4   Citation Location             object        \n",
      " 5   Vehicle Plate State           object        \n",
      " 6   Vehicle Plate                 object        \n",
      " 7   Fine Amount                   float64       \n",
      " 8   Date Added                    object        \n",
      " 9   geom                          object        \n",
      " 10  Neighborhoods                 float64       \n",
      " 11  SF Find Neighborhoods         float64       \n",
      " 12  Current Police Districts      float64       \n",
      " 13  Current Supervisor Districts  float64       \n",
      " 14  Analysis Neighborhoods        float64       \n",
      "dtypes: datetime64[ns](1), float64(6), object(8)\n",
      "memory usage: 272.0+ MB\n"
     ]
    }
   ],
   "source": [
    "st_cleaning_map.info()"
   ]
  },
  {
   "cell_type": "code",
   "execution_count": 4,
   "id": "65de3ee2-96c4-4f33-b119-0f74808ba10d",
   "metadata": {},
   "outputs": [],
   "source": [
    "# Add new column with complete address for 'Citation Location' for geocoding\n",
    "st_cleaning_map['Location_new'] = st_cleaning_map['Citation Location'].astype(str) + ', San Francisco, USA'"
   ]
  },
  {
   "cell_type": "code",
   "execution_count": 5,
   "id": "e4384acb-e787-4af6-bceb-165d8e7169f7",
   "metadata": {},
   "outputs": [
    {
     "data": {
      "text/html": [
       "<div>\n",
       "<style scoped>\n",
       "    .dataframe tbody tr th:only-of-type {\n",
       "        vertical-align: middle;\n",
       "    }\n",
       "\n",
       "    .dataframe tbody tr th {\n",
       "        vertical-align: top;\n",
       "    }\n",
       "\n",
       "    .dataframe thead th {\n",
       "        text-align: right;\n",
       "    }\n",
       "</style>\n",
       "<table border=\"1\" class=\"dataframe\">\n",
       "  <thead>\n",
       "    <tr style=\"text-align: right;\">\n",
       "      <th></th>\n",
       "      <th>Citation Number</th>\n",
       "      <th>Citation Issued DateTime</th>\n",
       "      <th>Violation</th>\n",
       "      <th>Violation Description</th>\n",
       "      <th>Citation Location</th>\n",
       "      <th>Vehicle Plate State</th>\n",
       "      <th>Vehicle Plate</th>\n",
       "      <th>Fine Amount</th>\n",
       "      <th>Date Added</th>\n",
       "      <th>geom</th>\n",
       "      <th>Neighborhoods</th>\n",
       "      <th>SF Find Neighborhoods</th>\n",
       "      <th>Current Police Districts</th>\n",
       "      <th>Current Supervisor Districts</th>\n",
       "      <th>Analysis Neighborhoods</th>\n",
       "      <th>Location_new</th>\n",
       "    </tr>\n",
       "  </thead>\n",
       "  <tbody>\n",
       "    <tr>\n",
       "      <th>0</th>\n",
       "      <td>949367440</td>\n",
       "      <td>2022-03-23 02:33:00</td>\n",
       "      <td>TRC7.2.22</td>\n",
       "      <td>STR CLEAN</td>\n",
       "      <td>720 TURK ST</td>\n",
       "      <td>CA</td>\n",
       "      <td>8U09234</td>\n",
       "      <td>84.0</td>\n",
       "      <td>11/16/2022 12:00:00 AM</td>\n",
       "      <td>NaN</td>\n",
       "      <td>NaN</td>\n",
       "      <td>NaN</td>\n",
       "      <td>NaN</td>\n",
       "      <td>NaN</td>\n",
       "      <td>NaN</td>\n",
       "      <td>720 TURK ST, San Francisco, USA</td>\n",
       "    </tr>\n",
       "    <tr>\n",
       "      <th>1</th>\n",
       "      <td>949375335</td>\n",
       "      <td>2022-03-24 09:30:00</td>\n",
       "      <td>TRC7.2.22</td>\n",
       "      <td>STR CLEAN</td>\n",
       "      <td>19 RIVAS AVE</td>\n",
       "      <td>CA</td>\n",
       "      <td>8GOA162</td>\n",
       "      <td>84.0</td>\n",
       "      <td>11/16/2022 12:00:00 AM</td>\n",
       "      <td>NaN</td>\n",
       "      <td>NaN</td>\n",
       "      <td>NaN</td>\n",
       "      <td>NaN</td>\n",
       "      <td>NaN</td>\n",
       "      <td>NaN</td>\n",
       "      <td>19 RIVAS AVE, San Francisco, USA</td>\n",
       "    </tr>\n",
       "    <tr>\n",
       "      <th>2</th>\n",
       "      <td>949395613</td>\n",
       "      <td>2022-03-21 13:05:00</td>\n",
       "      <td>TRC7.2.22</td>\n",
       "      <td>STR CLEAN</td>\n",
       "      <td>1405 BAKER ST</td>\n",
       "      <td>CA</td>\n",
       "      <td>5JZT981</td>\n",
       "      <td>84.0</td>\n",
       "      <td>11/16/2022 12:00:00 AM</td>\n",
       "      <td>NaN</td>\n",
       "      <td>NaN</td>\n",
       "      <td>NaN</td>\n",
       "      <td>NaN</td>\n",
       "      <td>NaN</td>\n",
       "      <td>NaN</td>\n",
       "      <td>1405 BAKER ST, San Francisco, USA</td>\n",
       "    </tr>\n",
       "    <tr>\n",
       "      <th>3</th>\n",
       "      <td>949411481</td>\n",
       "      <td>2022-03-29 00:15:00</td>\n",
       "      <td>TRC7.2.22</td>\n",
       "      <td>STR CLEAN</td>\n",
       "      <td>420 NATOMA ST</td>\n",
       "      <td>CA</td>\n",
       "      <td>8DEJ983</td>\n",
       "      <td>84.0</td>\n",
       "      <td>11/16/2022 12:00:00 AM</td>\n",
       "      <td>NaN</td>\n",
       "      <td>NaN</td>\n",
       "      <td>NaN</td>\n",
       "      <td>NaN</td>\n",
       "      <td>NaN</td>\n",
       "      <td>NaN</td>\n",
       "      <td>420 NATOMA ST, San Francisco, USA</td>\n",
       "    </tr>\n",
       "    <tr>\n",
       "      <th>4</th>\n",
       "      <td>949412855</td>\n",
       "      <td>2022-03-22 12:25:00</td>\n",
       "      <td>TRC7.2.22</td>\n",
       "      <td>STR CLEAN</td>\n",
       "      <td>717 WALLER ST</td>\n",
       "      <td>CA</td>\n",
       "      <td>6GOF707</td>\n",
       "      <td>84.0</td>\n",
       "      <td>11/16/2022 12:00:00 AM</td>\n",
       "      <td>NaN</td>\n",
       "      <td>NaN</td>\n",
       "      <td>NaN</td>\n",
       "      <td>NaN</td>\n",
       "      <td>NaN</td>\n",
       "      <td>NaN</td>\n",
       "      <td>717 WALLER ST, San Francisco, USA</td>\n",
       "    </tr>\n",
       "    <tr>\n",
       "      <th>5</th>\n",
       "      <td>894375451</td>\n",
       "      <td>2018-02-20 10:15:00</td>\n",
       "      <td>TRC7.2.22</td>\n",
       "      <td>STR CLEAN</td>\n",
       "      <td>3898 WASHINGTON ST</td>\n",
       "      <td>CA</td>\n",
       "      <td>ELBA227</td>\n",
       "      <td>73.0</td>\n",
       "      <td>08/10/2021 12:00:00 AM</td>\n",
       "      <td>POINT (-122.45708101499997 37.788961003000054)</td>\n",
       "      <td>10.0</td>\n",
       "      <td>10.0</td>\n",
       "      <td>8.0</td>\n",
       "      <td>6.0</td>\n",
       "      <td>31.0</td>\n",
       "      <td>3898 WASHINGTON ST, San Francisco, USA</td>\n",
       "    </tr>\n",
       "    <tr>\n",
       "      <th>6</th>\n",
       "      <td>895929086</td>\n",
       "      <td>2018-03-29 09:35:00</td>\n",
       "      <td>TRC7.2.22</td>\n",
       "      <td>STR CLEAN</td>\n",
       "      <td>812 SILLIMAN ST</td>\n",
       "      <td>CA</td>\n",
       "      <td>7TGY978</td>\n",
       "      <td>73.0</td>\n",
       "      <td>08/10/2021 12:00:00 AM</td>\n",
       "      <td>NaN</td>\n",
       "      <td>NaN</td>\n",
       "      <td>NaN</td>\n",
       "      <td>NaN</td>\n",
       "      <td>NaN</td>\n",
       "      <td>NaN</td>\n",
       "      <td>812 SILLIMAN ST, San Francisco, USA</td>\n",
       "    </tr>\n",
       "    <tr>\n",
       "      <th>7</th>\n",
       "      <td>938910103</td>\n",
       "      <td>2021-05-03 12:13:00</td>\n",
       "      <td>TRC7.2.22</td>\n",
       "      <td>STR CLEAN</td>\n",
       "      <td>1820 25TH ST</td>\n",
       "      <td>CA</td>\n",
       "      <td>6HKN775</td>\n",
       "      <td>83.0</td>\n",
       "      <td>08/08/2021 12:00:00 AM</td>\n",
       "      <td>NaN</td>\n",
       "      <td>NaN</td>\n",
       "      <td>NaN</td>\n",
       "      <td>NaN</td>\n",
       "      <td>NaN</td>\n",
       "      <td>NaN</td>\n",
       "      <td>1820 25TH ST, San Francisco, USA</td>\n",
       "    </tr>\n",
       "    <tr>\n",
       "      <th>8</th>\n",
       "      <td>900852466</td>\n",
       "      <td>2018-08-13 08:24:00</td>\n",
       "      <td>TRC7.2.22</td>\n",
       "      <td>STR CLEAN</td>\n",
       "      <td>173 ARKANSAS ST</td>\n",
       "      <td>CA</td>\n",
       "      <td>56907K2</td>\n",
       "      <td>76.0</td>\n",
       "      <td>02/13/2022 12:00:00 AM</td>\n",
       "      <td>POINT (-122.39854476899995 37.76402533000004)</td>\n",
       "      <td>54.0</td>\n",
       "      <td>54.0</td>\n",
       "      <td>1.0</td>\n",
       "      <td>9.0</td>\n",
       "      <td>26.0</td>\n",
       "      <td>173 ARKANSAS ST, San Francisco, USA</td>\n",
       "    </tr>\n",
       "    <tr>\n",
       "      <th>9</th>\n",
       "      <td>900915735</td>\n",
       "      <td>2018-08-17 09:40:00</td>\n",
       "      <td>TRC7.2.22</td>\n",
       "      <td>STR CLEAN</td>\n",
       "      <td>224 GARFIELD ST</td>\n",
       "      <td>CA</td>\n",
       "      <td>7T62119</td>\n",
       "      <td>76.0</td>\n",
       "      <td>02/13/2022 12:00:00 AM</td>\n",
       "      <td>NaN</td>\n",
       "      <td>NaN</td>\n",
       "      <td>NaN</td>\n",
       "      <td>NaN</td>\n",
       "      <td>NaN</td>\n",
       "      <td>NaN</td>\n",
       "      <td>224 GARFIELD ST, San Francisco, USA</td>\n",
       "    </tr>\n",
       "  </tbody>\n",
       "</table>\n",
       "</div>"
      ],
      "text/plain": [
       "  Citation Number Citation Issued DateTime  Violation Violation Description  \\\n",
       "0       949367440      2022-03-23 02:33:00  TRC7.2.22             STR CLEAN   \n",
       "1       949375335      2022-03-24 09:30:00  TRC7.2.22             STR CLEAN   \n",
       "2       949395613      2022-03-21 13:05:00  TRC7.2.22             STR CLEAN   \n",
       "3       949411481      2022-03-29 00:15:00  TRC7.2.22             STR CLEAN   \n",
       "4       949412855      2022-03-22 12:25:00  TRC7.2.22             STR CLEAN   \n",
       "5       894375451      2018-02-20 10:15:00  TRC7.2.22             STR CLEAN   \n",
       "6       895929086      2018-03-29 09:35:00  TRC7.2.22             STR CLEAN   \n",
       "7       938910103      2021-05-03 12:13:00  TRC7.2.22             STR CLEAN   \n",
       "8       900852466      2018-08-13 08:24:00  TRC7.2.22             STR CLEAN   \n",
       "9       900915735      2018-08-17 09:40:00  TRC7.2.22             STR CLEAN   \n",
       "\n",
       "    Citation Location Vehicle Plate State Vehicle Plate  Fine Amount  \\\n",
       "0         720 TURK ST                  CA       8U09234         84.0   \n",
       "1        19 RIVAS AVE                  CA       8GOA162         84.0   \n",
       "2       1405 BAKER ST                  CA       5JZT981         84.0   \n",
       "3       420 NATOMA ST                  CA       8DEJ983         84.0   \n",
       "4       717 WALLER ST                  CA       6GOF707         84.0   \n",
       "5  3898 WASHINGTON ST                  CA       ELBA227         73.0   \n",
       "6     812 SILLIMAN ST                  CA       7TGY978         73.0   \n",
       "7        1820 25TH ST                  CA       6HKN775         83.0   \n",
       "8     173 ARKANSAS ST                  CA       56907K2         76.0   \n",
       "9     224 GARFIELD ST                  CA       7T62119         76.0   \n",
       "\n",
       "               Date Added                                            geom  \\\n",
       "0  11/16/2022 12:00:00 AM                                             NaN   \n",
       "1  11/16/2022 12:00:00 AM                                             NaN   \n",
       "2  11/16/2022 12:00:00 AM                                             NaN   \n",
       "3  11/16/2022 12:00:00 AM                                             NaN   \n",
       "4  11/16/2022 12:00:00 AM                                             NaN   \n",
       "5  08/10/2021 12:00:00 AM  POINT (-122.45708101499997 37.788961003000054)   \n",
       "6  08/10/2021 12:00:00 AM                                             NaN   \n",
       "7  08/08/2021 12:00:00 AM                                             NaN   \n",
       "8  02/13/2022 12:00:00 AM   POINT (-122.39854476899995 37.76402533000004)   \n",
       "9  02/13/2022 12:00:00 AM                                             NaN   \n",
       "\n",
       "   Neighborhoods  SF Find Neighborhoods  Current Police Districts  \\\n",
       "0            NaN                    NaN                       NaN   \n",
       "1            NaN                    NaN                       NaN   \n",
       "2            NaN                    NaN                       NaN   \n",
       "3            NaN                    NaN                       NaN   \n",
       "4            NaN                    NaN                       NaN   \n",
       "5           10.0                   10.0                       8.0   \n",
       "6            NaN                    NaN                       NaN   \n",
       "7            NaN                    NaN                       NaN   \n",
       "8           54.0                   54.0                       1.0   \n",
       "9            NaN                    NaN                       NaN   \n",
       "\n",
       "   Current Supervisor Districts  Analysis Neighborhoods  \\\n",
       "0                           NaN                     NaN   \n",
       "1                           NaN                     NaN   \n",
       "2                           NaN                     NaN   \n",
       "3                           NaN                     NaN   \n",
       "4                           NaN                     NaN   \n",
       "5                           6.0                    31.0   \n",
       "6                           NaN                     NaN   \n",
       "7                           NaN                     NaN   \n",
       "8                           9.0                    26.0   \n",
       "9                           NaN                     NaN   \n",
       "\n",
       "                             Location_new  \n",
       "0         720 TURK ST, San Francisco, USA  \n",
       "1        19 RIVAS AVE, San Francisco, USA  \n",
       "2       1405 BAKER ST, San Francisco, USA  \n",
       "3       420 NATOMA ST, San Francisco, USA  \n",
       "4       717 WALLER ST, San Francisco, USA  \n",
       "5  3898 WASHINGTON ST, San Francisco, USA  \n",
       "6     812 SILLIMAN ST, San Francisco, USA  \n",
       "7        1820 25TH ST, San Francisco, USA  \n",
       "8     173 ARKANSAS ST, San Francisco, USA  \n",
       "9     224 GARFIELD ST, San Francisco, USA  "
      ]
     },
     "execution_count": 5,
     "metadata": {},
     "output_type": "execute_result"
    }
   ],
   "source": [
    "st_cleaning_map.head(10)"
   ]
  },
  {
   "cell_type": "markdown",
   "id": "42887a38-05e5-4aea-9517-3d48877174d7",
   "metadata": {},
   "source": [
    "### Where are the citation hotspots in recent five years?\n",
    "From last notebook, we know that top 10 hotspots are all close to each location: 5 locations on the Mission St., 3 on Taylor St., and 2 on Jones St.  \n",
    "If we put the locations on the map, 5 of the locations are in the Tenderloin district, 4 in SOMA district, and 1 in Financial district."
   ]
  },
  {
   "cell_type": "code",
   "execution_count": 6,
   "id": "ab48c473-27ef-48b3-b996-45ecbf503302",
   "metadata": {},
   "outputs": [
    {
     "data": {
      "text/plain": [
       "1190 MISSION ST    459\n",
       "111 TAYLOR ST      339\n",
       "540 JONES ST       327\n",
       "1188 MISSION ST    287\n",
       "814 MISSION ST     282\n",
       "555 MISSION ST     270\n",
       "556 JONES ST       262\n",
       "520 TAYLOR ST      251\n",
       "1018 MISSION ST    249\n",
       "501 TAYLOR ST      242\n",
       "Name: Citation Location, dtype: int64"
      ]
     },
     "execution_count": 6,
     "metadata": {},
     "output_type": "execute_result"
    }
   ],
   "source": [
    "# Top 10 hotspots\n",
    "st_cleaning_map['Citation Location'].value_counts().nlargest(10)"
   ]
  },
  {
   "cell_type": "code",
   "execution_count": 8,
   "id": "76cf07d1-3d80-47eb-a43a-e87626376eb0",
   "metadata": {},
   "outputs": [
    {
     "data": {
      "text/plain": [
       "1190 MISSION ST              459\n",
       "111 TAYLOR ST                339\n",
       "540 JONES ST                 327\n",
       "1188 MISSION ST              287\n",
       "814 MISSION ST               282\n",
       "555 MISSION ST               270\n",
       "556 JONES ST                 262\n",
       "520 TAYLOR ST                251\n",
       "1018 MISSION ST              249\n",
       "501 TAYLOR ST                242\n",
       "50 CLEARY CT                 239\n",
       "1000 GREAT HWY               235\n",
       "3500 19TH ST                 234\n",
       "1190 MISSION STREET          226\n",
       "3048 16TH ST                 219\n",
       "555 ELLIS ST                 216\n",
       "450 JONES ST                 215\n",
       "480 ELLIS ST                 202\n",
       "520 SOUTH VAN NESS AVE       198\n",
       "355 BERRY ST                 197\n",
       "420 EDDY ST                  193\n",
       "230 GOLDEN GATE AVE          189\n",
       "1825 MISSION ST              189\n",
       "1036 MISSION ST              188\n",
       "350 PARNASSUS AVE            186\n",
       "845 HYDE ST                  185\n",
       "225 TAYLOR ST                184\n",
       "420 JONES ST                 184\n",
       "575 MISSION ST               183\n",
       "65 CLEARY CT                 182\n",
       "1026 MISSION ST              181\n",
       "1050 GREAT HWY               180\n",
       "1180 MISSION ST              178\n",
       "350 O'FARRELL ST             177\n",
       "535 GEARY ST                 175\n",
       "225 HYDE ST                  174\n",
       "840 ELLIS ST                 174\n",
       "950 GREAT HWY                174\n",
       "1055 MASON ST                174\n",
       "20 12TH ST                   173\n",
       "240 GOLDEN GATE AVE          173\n",
       "548 BRANNAN ST               172\n",
       "825 POST ST                  171\n",
       "1020 MISSION ST              169\n",
       "530 ELLIS ST                 169\n",
       "110 08TH ST                  166\n",
       "140 HUBBELL ST               163\n",
       "200 BUENA VISTA AVE  EAST    162\n",
       "972 MISSION ST               162\n",
       "324 LARKIN ST                161\n",
       "Name: Citation Location, dtype: int64"
      ]
     },
     "execution_count": 8,
     "metadata": {},
     "output_type": "execute_result"
    }
   ],
   "source": [
    "# Top 50 hotspots\n",
    "st_cleaning_map['Citation Location'].value_counts().nlargest(50)"
   ]
  },
  {
   "cell_type": "code",
   "execution_count": 9,
   "id": "ac337cee-a349-45eb-87f8-6be4441683d4",
   "metadata": {},
   "outputs": [
    {
     "data": {
      "text/plain": [
       "1190 MISSION ST    459\n",
       "111 TAYLOR ST      339\n",
       "540 JONES ST       327\n",
       "1188 MISSION ST    287\n",
       "814 MISSION ST     282\n",
       "                  ... \n",
       "1180 POST ST       138\n",
       "30 DORE ST         138\n",
       "101 POLK ST        138\n",
       "222 TAYLOR ST      138\n",
       "600 MINNA ST       137\n",
       "Name: Citation Location, Length: 100, dtype: int64"
      ]
     },
     "execution_count": 9,
     "metadata": {},
     "output_type": "execute_result"
    }
   ],
   "source": [
    "# Top 100 hotspots\n",
    "st_cleaning_map['Citation Location'].value_counts().nlargest(100)"
   ]
  },
  {
   "cell_type": "markdown",
   "id": "88cdd556-787e-40bd-9624-bc5756f46365",
   "metadata": {},
   "source": [
    "### Hotspots each year?"
   ]
  },
  {
   "cell_type": "markdown",
   "id": "1487b53d-51b6-4000-b150-684988ef6257",
   "metadata": {},
   "source": [
    "#### 2018"
   ]
  },
  {
   "cell_type": "code",
   "execution_count": 40,
   "id": "20500628-9a2c-4b86-b231-a0f574811704",
   "metadata": {},
   "outputs": [
    {
     "data": {
      "text/plain": [
       "1000 GREAT HWY, San Francisco, USA       179\n",
       "950 GREAT HWY, San Francisco, USA        142\n",
       "1050 GREAT HWY, San Francisco, USA       138\n",
       "814 MISSION ST, San Francisco, USA       121\n",
       "555 MISSION ST, San Francisco, USA       104\n",
       "                                        ... \n",
       "1752 LANE ST, San Francisco, USA           1\n",
       "159 DAY ST, San Francisco, USA             1\n",
       "206 BADEN ST, San Francisco, USA           1\n",
       "328 TURK ST, San Francisco, USA            1\n",
       "1933 O'FARRELL ST, San Francisco, USA      1\n",
       "Name: Location_new, Length: 217787, dtype: int64"
      ]
     },
     "execution_count": 40,
     "metadata": {},
     "output_type": "execute_result"
    }
   ],
   "source": [
    "# 2018 full list\n",
    "map_count_2018 = st_cleaning_map[\n",
    "    (st_cleaning_map['Citation Issued DateTime'] >= '2018-01-01') & \n",
    "    (st_cleaning_map['Citation Issued DateTime'] < '2019-01-01')\n",
    "]\n",
    "map_count_2018 = map_count_2018['Location_new'].value_counts()\n",
    "map_count_2018"
   ]
  },
  {
   "cell_type": "code",
   "execution_count": 41,
   "id": "154c93b3-7e3c-4968-8c26-2aa26dda93de",
   "metadata": {},
   "outputs": [
    {
     "data": {
      "text/plain": [
       "1000 GREAT HWY, San Francisco, USA    179\n",
       "950 GREAT HWY, San Francisco, USA     142\n",
       "1050 GREAT HWY, San Francisco, USA    138\n",
       "814 MISSION ST, San Francisco, USA    121\n",
       "555 MISSION ST, San Francisco, USA    104\n",
       "50 CLEARY CT, San Francisco, USA       89\n",
       "65 CLEARY CT, San Francisco, USA       82\n",
       "60 CLEARY CT, San Francisco, USA       80\n",
       "750 FONT BLVD, San Francisco, USA      76\n",
       "40 CLEARY CT, San Francisco, USA       73\n",
       "Name: Location_new, dtype: int64"
      ]
     },
     "execution_count": 41,
     "metadata": {},
     "output_type": "execute_result"
    }
   ],
   "source": [
    "# 2018 top 10\n",
    "map_count_2018.nlargest(10)"
   ]
  },
  {
   "cell_type": "markdown",
   "id": "ea2d9e77-3578-4632-83ab-88f850803b30",
   "metadata": {},
   "source": [
    "#### 2019"
   ]
  },
  {
   "cell_type": "code",
   "execution_count": 42,
   "id": "39c80943-a298-4806-aff9-fa56c4b4f41e",
   "metadata": {},
   "outputs": [
    {
     "data": {
      "text/plain": [
       "50 CLEARY CT, San Francisco, USA           132\n",
       "nan, San Francisco, USA                     97\n",
       "555 MISSION ST, San Francisco, USA          89\n",
       "400 FULTON ST, San Francisco, USA           80\n",
       "814 MISSION ST, San Francisco, USA          76\n",
       "                                          ... \n",
       "750 INDIANA ST, San Francisco, USA           1\n",
       "7000 CALIFORNIA AVE, San Francisco, USA      1\n",
       "195 07TH ST, San Francisco, USA              1\n",
       "7495 GEARY BLVD, San Francisco, USA          1\n",
       "1269 SILVER AVENUE, San Francisco, USA       1\n",
       "Name: Location_new, Length: 247386, dtype: int64"
      ]
     },
     "execution_count": 42,
     "metadata": {},
     "output_type": "execute_result"
    }
   ],
   "source": [
    "# 2019 full list\n",
    "map_count_2019 = st_cleaning_map[\n",
    "    (st_cleaning_map['Citation Issued DateTime'] >= '2019-01-01') & \n",
    "    (st_cleaning_map['Citation Issued DateTime'] < '2020-01-01')\n",
    "]\n",
    "map_count_2019 = map_count_2019['Location_new'].value_counts()\n",
    "map_count_2019"
   ]
  },
  {
   "cell_type": "code",
   "execution_count": 43,
   "id": "b30964e7-3b01-460a-bcb1-972a697f6d65",
   "metadata": {},
   "outputs": [
    {
     "data": {
      "text/plain": [
       "50 CLEARY CT, San Francisco, USA           132\n",
       "nan, San Francisco, USA                     97\n",
       "555 MISSION ST, San Francisco, USA          89\n",
       "400 FULTON ST, San Francisco, USA           80\n",
       "814 MISSION ST, San Francisco, USA          76\n",
       "1200 SAN BRUNO AVE, San Francisco, USA      72\n",
       "318 HOWARD ST, San Francisco, USA           60\n",
       "1009 MISSION ST, San Francisco, USA         58\n",
       "450 RHODE ISLAND ST, San Francisco, USA     58\n",
       "55 CLEARY CT, San Francisco, USA            58\n",
       "Name: Location_new, dtype: int64"
      ]
     },
     "execution_count": 43,
     "metadata": {},
     "output_type": "execute_result"
    }
   ],
   "source": [
    "# 2019 top 10\n",
    "map_count_2019.nlargest(10)"
   ]
  },
  {
   "cell_type": "markdown",
   "id": "0f1bd41f-e47d-4dcb-88b0-77720b1241d0",
   "metadata": {},
   "source": [
    "#### 2020"
   ]
  },
  {
   "cell_type": "code",
   "execution_count": 44,
   "id": "c7894c28-31e4-43d0-ad47-d0be89f01f15",
   "metadata": {},
   "outputs": [
    {
     "data": {
      "text/plain": [
       "590 MISSION ST, San Francisco, USA         74\n",
       "110 08TH ST, San Francisco, USA            66\n",
       "111 TAYLOR ST, San Francisco, USA          56\n",
       "1190 MISSION ST, San Francisco, USA        51\n",
       "1018 MISSION ST, San Francisco, USA        51\n",
       "                                           ..\n",
       "494 STANYAN ST, San Francisco, USA          1\n",
       "3306 CLEMENT ST, San Francisco, USA         1\n",
       "1643 JERROLD AVENUE, San Francisco, USA     1\n",
       "185 27TH STREET, San Francisco, USA         1\n",
       "55 EDGAR AVENUE, San Francisco, USA         1\n",
       "Name: Location_new, Length: 224523, dtype: int64"
      ]
     },
     "execution_count": 44,
     "metadata": {},
     "output_type": "execute_result"
    }
   ],
   "source": [
    "# 2020 full list\n",
    "map_count_2020 = st_cleaning_map[\n",
    "    (st_cleaning_map['Citation Issued DateTime'] >= '2020-01-01') & \n",
    "    (st_cleaning_map['Citation Issued DateTime'] < '2021-01-01')\n",
    "]\n",
    "map_count_2020 = map_count_2020['Location_new'].value_counts()\n",
    "map_count_2020"
   ]
  },
  {
   "cell_type": "code",
   "execution_count": 45,
   "id": "262f96e7-a72c-4e86-9c95-042aa3b0d3f4",
   "metadata": {},
   "outputs": [
    {
     "data": {
      "text/plain": [
       "590 MISSION ST, San Francisco, USA         74\n",
       "110 08TH ST, San Francisco, USA            66\n",
       "111 TAYLOR ST, San Francisco, USA          56\n",
       "1190 MISSION ST, San Francisco, USA        51\n",
       "1018 MISSION ST, San Francisco, USA        51\n",
       "540 JONES ST, San Francisco, USA           50\n",
       "1036 MISSION STREET, San Francisco, USA    49\n",
       "10 12TH ST, San Francisco, USA             48\n",
       "355 MCALLISTER ST, San Francisco, USA      46\n",
       "1055 MASON ST, San Francisco, USA          44\n",
       "Name: Location_new, dtype: int64"
      ]
     },
     "execution_count": 45,
     "metadata": {},
     "output_type": "execute_result"
    }
   ],
   "source": [
    "# 2020 top 10\n",
    "map_count_2020.nlargest(10)"
   ]
  },
  {
   "cell_type": "markdown",
   "id": "81aba091-9df9-4813-93fd-af99ff584d2d",
   "metadata": {},
   "source": [
    "#### 2021"
   ]
  },
  {
   "cell_type": "code",
   "execution_count": 46,
   "id": "756640df-79bb-45d9-b0a7-ae95f13c66d5",
   "metadata": {},
   "outputs": [
    {
     "data": {
      "text/plain": [
       "1190 MISSION ST, San Francisco, USA        173\n",
       "1190 MISSION STREET, San Francisco, USA    128\n",
       "556 JONES ST, San Francisco, USA           127\n",
       "1188 MISSION ST, San Francisco, USA        105\n",
       "540 JONES ST, San Francisco, USA           104\n",
       "                                          ... \n",
       "2961 BUSH STREET, San Francisco, USA         1\n",
       "333 CRESTA VISTA DR, San Francisco, USA      1\n",
       "25 FUENTE AVENUE, San Francisco, USA         1\n",
       "346 SAN BENITO WAY, San Francisco, USA       1\n",
       "7 SHOTWELL ST, San Francisco, USA            1\n",
       "Name: Location_new, Length: 266479, dtype: int64"
      ]
     },
     "execution_count": 46,
     "metadata": {},
     "output_type": "execute_result"
    }
   ],
   "source": [
    "# 2021 full list\n",
    "map_count_2021 = st_cleaning_map[\n",
    "    (st_cleaning_map['Citation Issued DateTime'] >= '2021-01-01') & \n",
    "    (st_cleaning_map['Citation Issued DateTime'] < '2022-01-01')\n",
    "]\n",
    "map_count_2021 = map_count_2021['Location_new'].value_counts()\n",
    "map_count_2021"
   ]
  },
  {
   "cell_type": "code",
   "execution_count": 47,
   "id": "ca8e0bc8-d12d-4f59-aaaf-9671698522d5",
   "metadata": {},
   "outputs": [
    {
     "data": {
      "text/plain": [
       "1190 MISSION ST, San Francisco, USA        173\n",
       "1190 MISSION STREET, San Francisco, USA    128\n",
       "556 JONES ST, San Francisco, USA           127\n",
       "1188 MISSION ST, San Francisco, USA        105\n",
       "540 JONES ST, San Francisco, USA           104\n",
       "555 ELLIS ST, San Francisco, USA           103\n",
       "101 POLK ST, San Francisco, USA             99\n",
       "111 TAYLOR ST, San Francisco, USA           96\n",
       "887 HOWARD STREET, San Francisco, USA       93\n",
       "1188 MISSION STREET, San Francisco, USA     92\n",
       "Name: Location_new, dtype: int64"
      ]
     },
     "execution_count": 47,
     "metadata": {},
     "output_type": "execute_result"
    }
   ],
   "source": [
    "# 2021 top 10\n",
    "map_count_2021.nlargest(10)"
   ]
  },
  {
   "cell_type": "markdown",
   "id": "762c4a06-c2fe-479d-a84b-4f35f1e73fcd",
   "metadata": {},
   "source": [
    "#### 2022"
   ]
  },
  {
   "cell_type": "code",
   "execution_count": 48,
   "id": "eb022eb3-2093-4a33-be94-303d9b90ed95",
   "metadata": {},
   "outputs": [
    {
     "data": {
      "text/plain": [
       "1190 MISSION ST, San Francisco, USA    125\n",
       "1018 MISSION ST, San Francisco, USA    101\n",
       "540 JONES ST, San Francisco, USA       101\n",
       "111 TAYLOR ST, San Francisco, USA       93\n",
       "450 JONES ST, San Francisco, USA        87\n",
       "                                      ... \n",
       "786 INDIANA ST, San Francisco, USA       1\n",
       "2204 REVERE AVE, San Francisco, USA      1\n",
       "417 TREAT AVE, San Francisco, USA        1\n",
       "45 BOARDMAN PL, San Francisco, USA       1\n",
       "2501 25TH AVE, San Francisco, USA        1\n",
       "Name: Location_new, Length: 218714, dtype: int64"
      ]
     },
     "execution_count": 48,
     "metadata": {},
     "output_type": "execute_result"
    }
   ],
   "source": [
    "# 2022 full list\n",
    "map_count_2022 = st_cleaning_map[\n",
    "    (st_cleaning_map['Citation Issued DateTime'] >= '2022-01-01')\n",
    "]\n",
    "map_count_2022 = map_count_2022['Location_new'].value_counts()\n",
    "map_count_2022"
   ]
  },
  {
   "cell_type": "code",
   "execution_count": 49,
   "id": "0995788c-df1a-4802-8a5c-6d17e50d49a0",
   "metadata": {},
   "outputs": [
    {
     "data": {
      "text/plain": [
       "1190 MISSION ST, San Francisco, USA           125\n",
       "1018 MISSION ST, San Francisco, USA           101\n",
       "540 JONES ST, San Francisco, USA              101\n",
       "111 TAYLOR ST, San Francisco, USA              93\n",
       "450 JONES ST, San Francisco, USA               87\n",
       "1188 MISSION ST, San Francisco, USA            82\n",
       "50 JONES ST, San Francisco, USA                82\n",
       "520 SOUTH VAN NESS AVE, San Francisco, USA     76\n",
       "1333 JONES ST, San Francisco, USA              72\n",
       "420 JONES ST, San Francisco, USA               71\n",
       "Name: Location_new, dtype: int64"
      ]
     },
     "execution_count": 49,
     "metadata": {},
     "output_type": "execute_result"
    }
   ],
   "source": [
    "# 2022 top 10\n",
    "map_count_2022.nlargest(10)"
   ]
  },
  {
   "cell_type": "code",
   "execution_count": null,
   "id": "232e1ef1-751a-4ad7-9478-a5b4dc769156",
   "metadata": {},
   "outputs": [],
   "source": []
  },
  {
   "cell_type": "code",
   "execution_count": null,
   "id": "1b21147e-c74c-4cf3-9224-3092f209f16f",
   "metadata": {},
   "outputs": [],
   "source": []
  },
  {
   "cell_type": "code",
   "execution_count": null,
   "id": "7e7ef15b-9010-4657-962a-164116cf482f",
   "metadata": {},
   "outputs": [],
   "source": []
  }
 ],
 "metadata": {
  "kernelspec": {
   "display_name": "Python 3 (ipykernel)",
   "language": "python",
   "name": "python3"
  },
  "language_info": {
   "codemirror_mode": {
    "name": "ipython",
    "version": 3
   },
   "file_extension": ".py",
   "mimetype": "text/x-python",
   "name": "python",
   "nbconvert_exporter": "python",
   "pygments_lexer": "ipython3",
   "version": "3.9.12"
  }
 },
 "nbformat": 4,
 "nbformat_minor": 5
}
